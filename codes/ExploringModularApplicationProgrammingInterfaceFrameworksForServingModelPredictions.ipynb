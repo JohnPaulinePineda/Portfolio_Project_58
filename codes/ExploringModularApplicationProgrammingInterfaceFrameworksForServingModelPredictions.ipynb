{
 "cells": [
  {
   "cell_type": "markdown",
   "id": "810e3ea5-b9fc-4344-b090-3ea10e3d4a82",
   "metadata": {},
   "source": [
    "***\n",
    "# Model Deployment : Exploring Modular Application Programming Interface Frameworks For Serving Model Predictions"
   ]
  },
  {
   "cell_type": "markdown",
   "id": "b7b23c7c-6b22-49ad-b912-a5b99bbaadaf",
   "metadata": {},
   "source": [
    "***\n",
    "### [**John Pauline Pineda**](https://github.com/JohnPaulinePineda) <br> <br> *January 25, 2025*\n",
    "***"
   ]
  },
  {
   "cell_type": "markdown",
   "id": "8558c66d-eda4-4706-8ba3-d970d12bfb7b",
   "metadata": {},
   "source": [
    "* [**1. Table of Contents**](#TOC)\n",
    "    * [1.1 Project Background](#1.1)\n",
    "        * [1.1.1 Categorical Classfication](#1.1.1)\n",
    "            * [1.1.1.1 Data Background](#1.1.1.1)\n",
    "            * [1.1.1.2 Model Background](#1.1.2.1)\n",
    "        * [1.1.2 Survival Prediction](#1.1.2)\n",
    "            * [1.1.2.1 Data Background](#1.1.2.1)\n",
    "            * [1.1.2.2 Model Background](#1.1.2.2)\n",
    "        * [1.1.3 Survival Prediction](#1.1.3)\n",
    "            * [1.1.3.1 Data Background](#1.1.2.1)\n",
    "            * [1.1.3.2 Model Background](#1.1.3.2)\n",
    "    * [1.2 Application Programming Interface (API) Development Using the FastAPI Framework](#1.2)\n",
    "        * [1.2.1 Categorical Classfication](#1.2.1)\n",
    "            * [1.2.1.1 API Building](#1.2.1.1)\n",
    "            * [1.2.1.2 API Testing](#1.2.1.2)\n",
    "        * [1.2.2 Categorical Classfication](#1.2.2)\n",
    "            * [1.2.2.1 API Building](#1.2.2.1)\n",
    "            * [1.2.2.2 API Testing](#1.2.2.2)\n",
    "        * [1.2.3 Categorical Classfication](#1.2.3)\n",
    "            * [1.2.3.1 API Building](#1.2.3.1)\n",
    "            * [1.2.3.2 API Testing](#1.2.3.2)\n",
    "    * [1.3 Application Programming Interface (API) Development Using the Flask Framework](#1.3)\n",
    "        * [1.3.1 Categorical Classfication](#1.3.1)\n",
    "            * [1.3.1.1 API Building](#1.3.1.1)\n",
    "            * [1.3.1.2 API Testing](#1.3.1.2)\n",
    "        * [1.3.2 Categorical Classfication](#1.3.2)\n",
    "            * [1.3.2.1 API Building](#1.3.2.1)\n",
    "            * [1.3.2.2 API Testing](#1.3.2.2)\n",
    "        * [1.3.3 Categorical Classfication](#1.3.3)\n",
    "            * [1.3.3.1 API Building](#1.3.3.1)\n",
    "            * [1.3.3.2 API Testing](#1.3.3.2)\n",
    "    * [1.4 Consolidated Findings](#1.1)\n",
    "* [**2. Summary**](#Summary)   \n",
    "* [**3. References**](#References)\n",
    "\n",
    "***"
   ]
  },
  {
   "cell_type": "markdown",
   "id": "dd4f79b7-3e68-46ea-84f2-08cf9b2e5c20",
   "metadata": {},
   "source": [
    "# 1. Table of Contents <a class=\"anchor\" id=\"TOC\"></a>"
   ]
  },
  {
   "cell_type": "markdown",
   "id": "504de7a4-8417-4560-973e-afd75ec833ab",
   "metadata": {},
   "source": [
    "## 1.1. Project Background <a class=\"anchor\" id=\"1.1\"></a>"
   ]
  },
  {
   "cell_type": "markdown",
   "id": "630eed69-65fa-4ee3-9d55-9adb7347e156",
   "metadata": {},
   "source": [
    "### 1.1.1 Categorical Classification <a class=\"anchor\" id=\"1.1.1\"></a>"
   ]
  },
  {
   "cell_type": "markdown",
   "id": "9be55c1a-5d5d-4354-936a-f0a5833763c8",
   "metadata": {},
   "source": [
    "#### 1.1.1.1 Data Background <a class=\"anchor\" id=\"1.1.1.1\"></a>"
   ]
  },
  {
   "cell_type": "markdown",
   "id": "6d251b1e-bad6-4c70-9612-84329ec0e03e",
   "metadata": {},
   "source": [
    "#### 1.1.1.2 Model Background <a class=\"anchor\" id=\"1.1.1.2\"></a>"
   ]
  },
  {
   "cell_type": "markdown",
   "id": "62e33982-f3a8-441e-8b37-101192641b16",
   "metadata": {},
   "source": [
    "### 1.1.2 Survival Prediction <a class=\"anchor\" id=\"1.1.2\"></a>"
   ]
  },
  {
   "cell_type": "markdown",
   "id": "f837a5c4-25ea-4c9a-ad76-a3f4dfaf020d",
   "metadata": {},
   "source": [
    "#### 1.1.2.1 Data Background <a class=\"anchor\" id=\"1.1.2.1\"></a>"
   ]
  },
  {
   "cell_type": "markdown",
   "id": "89287515-ec7d-4413-b79f-391d9e0983a3",
   "metadata": {},
   "source": [
    "#### 1.1.2.2 Model Background <a class=\"anchor\" id=\"1.1.2.2\"></a>"
   ]
  },
  {
   "cell_type": "markdown",
   "id": "93926615-43ed-4e93-9f11-afaba4603738",
   "metadata": {},
   "source": [
    "### 1.1.3 Image Classfication <a class=\"anchor\" id=\"1.1.3\"></a>"
   ]
  },
  {
   "cell_type": "markdown",
   "id": "249b5669-3cfa-46c9-bf09-767d4c666739",
   "metadata": {},
   "source": [
    "#### 1.1.3.1 Data Background <a class=\"anchor\" id=\"1.1.3.1\"></a>"
   ]
  },
  {
   "cell_type": "markdown",
   "id": "014b41a8-fc6d-45d6-ba0b-2e8740f57bae",
   "metadata": {},
   "source": [
    "#### 1.1.3.2 Model Background <a class=\"anchor\" id=\"1.1.3.2\"></a>"
   ]
  },
  {
   "cell_type": "markdown",
   "id": "21470ae0-bcee-45fe-b221-c8f748dd0919",
   "metadata": {},
   "source": [
    "## 1.2. Application Programming Interface (API) Development Using the FastAPI Framework <a class=\"anchor\" id=\"1.2\"></a>"
   ]
  },
  {
   "cell_type": "markdown",
   "id": "1cb145da-fd94-428e-a69b-a979f1cc90ea",
   "metadata": {},
   "source": [
    "### 1.2.1 Categorical Classification <a class=\"anchor\" id=\"1.2.1\"></a>"
   ]
  },
  {
   "cell_type": "markdown",
   "id": "bb8943ec-414a-469a-8c67-f76324fb3c73",
   "metadata": {},
   "source": [
    "#### 1.2.1.1 API Building <a class=\"anchor\" id=\"1.2.1.1\"></a>"
   ]
  },
  {
   "cell_type": "markdown",
   "id": "89064c10-389b-4b68-9c20-f4872fedaa93",
   "metadata": {},
   "source": [
    "#### 1.2.1.2 API Testing <a class=\"anchor\" id=\"1.2.1.2\"></a>"
   ]
  },
  {
   "cell_type": "code",
   "execution_count": 1,
   "id": "276a8c51-6d35-4467-b148-dd3e15778b9e",
   "metadata": {},
   "outputs": [],
   "source": [
    "##################################\n",
    "# Loading Python Libraries\n",
    "##################################\n",
    "import requests\n"
   ]
  },
  {
   "cell_type": "code",
   "execution_count": 2,
   "id": "5aadd52f-be80-4861-9210-c8d7500ecafc",
   "metadata": {},
   "outputs": [],
   "source": [
    "##################################\n",
    "# Defining the base URL of the API\n",
    "# for the categorical classification model\n",
    "##################################\n",
    "CC_BASE_URL = \"http://127.0.0.1:8000\"\n"
   ]
  },
  {
   "cell_type": "code",
   "execution_count": 3,
   "id": "1f5df975-c109-45a2-808b-3e4ead4348f8",
   "metadata": {},
   "outputs": [],
   "source": [
    "##################################\n",
    "# Defining the input values for an individual test case\n",
    "##################################\n",
    "individual_test_case = {\n",
    "    \"features_individual\": [1, 0, 0, 0, 0, 1, 0, 0, 1, 1] \n",
    "}"
   ]
  },
  {
   "cell_type": "code",
   "execution_count": 4,
   "id": "b45b7ff4-d962-4cc8-9dc7-4f5f20f5b3ca",
   "metadata": {},
   "outputs": [],
   "source": [
    "##################################\n",
    "# Defining the input values for a batch of cases\n",
    "##################################\n",
    "batch_test_case = {\n",
    "    \"features_list\": [\n",
    "        [1, 0, 0, 0, 0, 1, 0, 0, 1, 1], \n",
    "        [1, 0, 1, 0, 1, 1, 0, 1, 1, 1]\n",
    "    ]\n",
    "}\n"
   ]
  },
  {
   "cell_type": "code",
   "execution_count": 5,
   "id": "ff53449d-e93a-42e9-ace5-dab5a14b564a",
   "metadata": {},
   "outputs": [
    {
     "name": "stdout",
     "output_type": "stream",
     "text": [
      "Root Endpoint Response: {'message': 'Welcome to the Categorical Classification API!'}\n"
     ]
    }
   ],
   "source": [
    "##################################\n",
    "# Generating a GET endpoint request for\n",
    "# for validating API service connection\n",
    "##################################\n",
    "response = requests.get(f\"{CC_BASE_URL}/\")\n",
    "if response.status_code == 200:\n",
    "    print(\"Root Endpoint Response:\", response.json())\n",
    "else:\n",
    "    print(\"Error:\", response.status_code, response.text)\n",
    "    "
   ]
  },
  {
   "cell_type": "code",
   "execution_count": 6,
   "id": "7ef0ac03-25f9-49ae-85b4-8212ab9ae63d",
   "metadata": {},
   "outputs": [
    {
     "name": "stdout",
     "output_type": "stream",
     "text": [
      "Response: {'logit': -1.2117837409390746, 'probability': 0.22938559072691203, 'risk_class': 'Low-Risk'}\n"
     ]
    }
   ],
   "source": [
    "##################################\n",
    "# Generating a POST endpoint request for\n",
    "# computing the risk index,\n",
    "# estimating the lung cancer probability,\n",
    "# and predicting the risk category\n",
    "# of an individual test case\n",
    "##################################\n",
    "response = requests.post(f\"{CC_BASE_URL}/predict-individual-logit-probability-class\", json=individual_test_case)\n",
    "if response.status_code == 200:\n",
    "    print(\"Response:\", response.json())\n",
    "else:\n",
    "    print(\"Error:\", response.status_code, response.text)\n",
    "    "
   ]
  },
  {
   "cell_type": "code",
   "execution_count": 7,
   "id": "9e30060e-6d0a-4385-9c44-9b05de1702dc",
   "metadata": {},
   "outputs": [
    {
     "name": "stdout",
     "output_type": "stream",
     "text": [
      "Response: {'logit': [-1.2117837409390746, 3.4784950973590973], 'probability': [0.22938559072691203, 0.9700696569701589], 'logit_sorted': [-1.2117837409390746, 3.4784950973590973], 'probability_sorted': [0.22938559072691203, 0.9700696569701589]}\n"
     ]
    }
   ],
   "source": [
    "##################################\n",
    "# Sending a POST endpoint request for\n",
    "# computing the risk index,\n",
    "# estimating the lung cancer probability,\n",
    "# and predicting the risk category\n",
    "# of a list of train cases\n",
    "##################################\n",
    "response = requests.post(f\"{CC_BASE_URL}/predict-list-logit-probability-class\", json=batch_test_case)\n",
    "if response.status_code == 200:\n",
    "    print(\"Response:\", response.json())\n",
    "else:\n",
    "    print(\"Error:\", response.status_code, response.text)\n",
    "    "
   ]
  },
  {
   "cell_type": "code",
   "execution_count": 8,
   "id": "bd02a8e6-22ff-4154-b1d3-09c3389becf4",
   "metadata": {},
   "outputs": [
    {
     "name": "stdout",
     "output_type": "stream",
     "text": [
      "Error: 422 {\"detail\":[{\"type\":\"missing\",\"loc\":[\"body\",\"features_individual\"],\"msg\":\"Field required\",\"input\":{\"features\":[1,0,1]}}]}\n"
     ]
    }
   ],
   "source": [
    "##################################\n",
    "# Sending a POST endpoint request\n",
    "# using malformed data to evaluate\n",
    "# the API's error handling function\n",
    "##################################\n",
    "malformed_test_case = {\"features\": [1, 0, 1]}\n",
    "response = requests.post(f\"{CC_BASE_URL}/predict-individual-logit-probability-class\", json=malformed_test_case)\n",
    "if response.status_code == 200:\n",
    "    print(\"Response:\", response.json())\n",
    "else:\n",
    "    print(\"Error:\", response.status_code, response.text)\n",
    "    "
   ]
  },
  {
   "cell_type": "markdown",
   "id": "36acf173-f168-4859-8e14-af001bf45561",
   "metadata": {},
   "source": [
    "### 1.2.2 Survival Prediction <a class=\"anchor\" id=\"1.2.2\"></a>"
   ]
  },
  {
   "cell_type": "markdown",
   "id": "fe519789-84e2-4ea6-89fd-bae959c442fc",
   "metadata": {},
   "source": [
    "#### 1.2.2.1 API Building <a class=\"anchor\" id=\"1.2.2.1\"></a>"
   ]
  },
  {
   "cell_type": "markdown",
   "id": "cb5f5027-da69-4c10-a9ce-2891e4b9e190",
   "metadata": {},
   "source": [
    "#### 1.2.2.2 API Testing <a class=\"anchor\" id=\"1.2.2.2\"></a>"
   ]
  },
  {
   "cell_type": "code",
   "execution_count": 9,
   "id": "77d6068b-9dfc-4408-9d69-f9f6a6f12645",
   "metadata": {},
   "outputs": [],
   "source": [
    "##################################\n",
    "# Loading Python Libraries\n",
    "##################################\n",
    "import requests\n",
    "import json\n",
    "import pandas as pd\n",
    "import base64\n",
    "from IPython.display import Image, display\n"
   ]
  },
  {
   "cell_type": "code",
   "execution_count": 10,
   "id": "20b84cf2-7f9c-4d22-8993-bfb2d934a85b",
   "metadata": {},
   "outputs": [],
   "source": [
    "##################################\n",
    "# Defining the base URL of the API\n",
    "# for the categorical classification model\n",
    "##################################\n",
    "SP_BASE_URL = \"http://127.0.0.1:8001\"\n"
   ]
  },
  {
   "cell_type": "code",
   "execution_count": 11,
   "id": "ea189a2d-657d-437a-88ab-51636352b895",
   "metadata": {},
   "outputs": [],
   "source": [
    "##################################\n",
    "# Defining the input values for an individual test case\n",
    "##################################\n",
    "single_test_case = {\n",
    "    \"features_individual\": [43, 0, 75, 1, 0.75, 100]  \n",
    "}\n"
   ]
  },
  {
   "cell_type": "code",
   "execution_count": 12,
   "id": "037b488d-0354-4b86-8ed7-dd1898454a87",
   "metadata": {},
   "outputs": [],
   "source": [
    "##################################\n",
    "# Defining the input values for a batch of cases\n",
    "##################################\n",
    "train_list = {\n",
    "        \"features_list\": [\n",
    "            [43, 0, 75, 1, 0.75, 100],\n",
    "            [70, 1,\t20,\t1, 0.75, 100]\n",
    "        ]\n",
    "    }\n"
   ]
  },
  {
   "cell_type": "code",
   "execution_count": 13,
   "id": "87f693d2-fb29-4949-a586-ccd0dc8344dc",
   "metadata": {},
   "outputs": [
    {
     "name": "stdout",
     "output_type": "stream",
     "text": [
      "Response: {'message': 'Welcome to the Survival Prediction API!'}\n"
     ]
    }
   ],
   "source": [
    "##################################\n",
    "# Generating a GET endpoint request for\n",
    "# for validating API service connection\n",
    "##################################\n",
    "response = requests.get(f\"{SP_BASE_URL}/\")\n",
    "if response.status_code == 200:\n",
    "    print(\"Response:\", response.json())\n",
    "else:\n",
    "    print(\"Error:\", response.status_code, response.text)\n"
   ]
  },
  {
   "cell_type": "code",
   "execution_count": 14,
   "id": "79616c40-c6a0-4af0-993b-77d10f3ac029",
   "metadata": {},
   "outputs": [
    {
     "name": "stdout",
     "output_type": "stream",
     "text": [
      "Response: {'survival_function': [0.9973812917524568, 0.9920416812438736, 0.9893236791425079, 0.972381113071464, 0.9693179903073035, 0.9631930672135339, 0.9631930672135339, 0.9600469571766689, 0.9600469571766689, 0.9568596864927983, 0.9536305709158891, 0.9471625843882805, 0.93729581350105, 0.9338986486591409, 0.93048646553474, 0.9270645831787163, 0.9202445006124622, 0.9167715111530355, 0.9132845175345189, 0.9097550958520674, 0.9097550958520674, 0.9097550958520674, 0.9060810720432387, 0.9024157452999795, 0.9024157452999795, 0.9024157452999795, 0.9024157452999795, 0.9024157452999795, 0.8985598696587259, 0.8985598696587259, 0.8985598696587259, 0.8945287485160898, 0.8945287485160898, 0.8945287485160898, 0.8945287485160898, 0.8901959645503091, 0.8812352215018253, 0.8812352215018253, 0.8812352215018253, 0.8812352215018253, 0.8764677174183527, 0.8764677174183527, 0.8764677174183527, 0.8764677174183527, 0.8709113650481243, 0.8709113650481243, 0.8652494086650531, 0.8593884303802698, 0.8593884303802698, 0.8593884303802698, 0.8593884303802698, 0.8593884303802698, 0.8528574859874233, 0.8528574859874233, 0.8528574859874233, 0.8528574859874233, 0.8528574859874233, 0.8459534502216807, 0.8389821875092403, 0.8319419786276306, 0.8246669811915435, 0.8099879066057215, 0.8099879066057215, 0.7943979200335176, 0.7943979200335176, 0.7943979200335176, 0.7943979200335176, 0.7943979200335176, 0.7848178617845467, 0.7848178617845467, 0.7848178617845467, 0.7848178617845467, 0.7741993572193384, 0.7741993572193384, 0.7741993572193384, 0.7741993572193384, 0.7741993572193384, 0.7741993572193384, 0.7741993572193384, 0.7555469848652164, 0.7555469848652164, 0.7555469848652164, 0.7555469848652164, 0.7555469848652164, 0.7337716342207724, 0.7337716342207724, 0.7337716342207724, 0.7070184115456696, 0.7070184115456696, 0.7070184115456696, 0.7070184115456696, 0.7070184115456696, 0.7070184115456696, 0.7070184115456696, 0.7070184115456696, 0.7070184115456696], 'survival_time': [50, 100, 150, 200, 250], 'survival_probabilities': [90.97550958520674, 87.64677174183527, 84.59534502216806, 78.48178617845467, 70.70184115456696], 'risk_category': 'Low-Risk'}\n"
     ]
    }
   ],
   "source": [
    "##################################\n",
    "# Sending a POST endpoint request for\n",
    "# generating the heart failure survival profile,\n",
    "# estimating the heart failure survival probabilities,\n",
    "# and predicting the risk category\n",
    "# of an individual test case\n",
    "##################################\n",
    "response = requests.post(f\"{SP_BASE_URL}/compute-individual-coxph-survival-probability-class/\", json=single_test_case)\n",
    "if response.status_code == 200:\n",
    "    print(\"Response:\", response.json())\n",
    "else:\n",
    "    print(\"Error:\", response.status_code, response.text)\n",
    "    "
   ]
  },
  {
   "cell_type": "code",
   "execution_count": 15,
   "id": "e232341a-5e59-4424-b50d-258eedae89c6",
   "metadata": {},
   "outputs": [
    {
     "name": "stdout",
     "output_type": "stream",
     "text": [
      "Response: {'survival_profiles': [[0.9973812917524568, 0.9920416812438736, 0.9893236791425079, 0.972381113071464, 0.9693179903073035, 0.9631930672135339, 0.9631930672135339, 0.9600469571766689, 0.9600469571766689, 0.9568596864927983, 0.9536305709158891, 0.9471625843882805, 0.93729581350105, 0.9338986486591409, 0.93048646553474, 0.9270645831787163, 0.9202445006124622, 0.9167715111530355, 0.9132845175345189, 0.9097550958520674, 0.9097550958520674, 0.9097550958520674, 0.9060810720432387, 0.9024157452999795, 0.9024157452999795, 0.9024157452999795, 0.9024157452999795, 0.9024157452999795, 0.8985598696587259, 0.8985598696587259, 0.8985598696587259, 0.8945287485160898, 0.8945287485160898, 0.8945287485160898, 0.8945287485160898, 0.8901959645503091, 0.8812352215018253, 0.8812352215018253, 0.8812352215018253, 0.8812352215018253, 0.8764677174183526, 0.8764677174183526, 0.8764677174183526, 0.8764677174183526, 0.8709113650481243, 0.8709113650481243, 0.8652494086650531, 0.8593884303802697, 0.8593884303802697, 0.8593884303802697, 0.8593884303802697, 0.8593884303802697, 0.8528574859874233, 0.8528574859874233, 0.8528574859874233, 0.8528574859874233, 0.8528574859874233, 0.8459534502216807, 0.8389821875092403, 0.8319419786276306, 0.8246669811915435, 0.8099879066057215, 0.8099879066057215, 0.7943979200335176, 0.7943979200335176, 0.7943979200335176, 0.7943979200335176, 0.7943979200335176, 0.7848178617845467, 0.7848178617845467, 0.7848178617845467, 0.7848178617845467, 0.7741993572193384, 0.7741993572193384, 0.7741993572193384, 0.7741993572193384, 0.7741993572193384, 0.7741993572193384, 0.7741993572193384, 0.7555469848652164, 0.7555469848652164, 0.7555469848652164, 0.7555469848652164, 0.7555469848652164, 0.7337716342207724, 0.7337716342207724, 0.7337716342207724, 0.7070184115456695, 0.7070184115456695, 0.7070184115456695, 0.7070184115456695, 0.7070184115456695, 0.7070184115456695, 0.7070184115456695, 0.7070184115456695, 0.7070184115456695], [0.9761144218801228, 0.928980888267716, 0.905777064852962, 0.7724242339590301, 0.7502787164583535, 0.7076872741961866, 0.7076872741961866, 0.6866593185026403, 0.6866593185026403, 0.6659260634219393, 0.6454915885099762, 0.6062342264686207, 0.5504405490863784, 0.5323184765768243, 0.5146536440658629, 0.49746533888245986, 0.464726413395405, 0.4488047347163327, 0.433309930422515, 0.4181140392975694, 0.4181140392975694, 0.4181140392975694, 0.4028020116306455, 0.38802639234746467, 0.38802639234746467, 0.38802639234746467, 0.38802639234746467, 0.38802639234746467, 0.373006008573048, 0.373006008573048, 0.373006008573048, 0.35785929480690143, 0.35785929480690143, 0.35785929480690143, 0.35785929480690143, 0.3421927616040032, 0.3117176431598899, 0.3117176431598899, 0.3117176431598899, 0.3117176431598899, 0.29651072362871467, 0.29651072362871467, 0.29651072362871467, 0.29651072362871467, 0.2796248763802668, 0.2796248763802668, 0.2633052706162029, 0.24731169874453887, 0.24731169874453887, 0.24731169874453887, 0.24731169874453887, 0.24731169874453887, 0.23051507888001282, 0.23051507888001282, 0.23051507888001282, 0.23051507888001282, 0.23051507888001282, 0.213871875082776, 0.19816204676152543, 0.18334919195124752, 0.16908728217620728, 0.1432835564355214, 0.1432835564355214, 0.119778195679268, 0.119778195679268, 0.119778195679268, 0.119778195679268, 0.119778195679268, 0.10710184631976834, 0.10710184631976834, 0.10710184631976834, 0.10710184631976834, 0.09446095671842468, 0.09446095671842468, 0.09446095671842468, 0.09446095671842468, 0.09446095671842468, 0.09446095671842468, 0.09446095671842468, 0.07544024472233593, 0.07544024472233593, 0.07544024472233593, 0.07544024472233593, 0.07544024472233593, 0.05761125190131533, 0.05761125190131533, 0.05761125190131533, 0.040906392932898404, 0.040906392932898404, 0.040906392932898404, 0.040906392932898404, 0.040906392932898404, 0.040906392932898404, 0.040906392932898404, 0.040906392932898404, 0.040906392932898404]]}\n"
     ]
    }
   ],
   "source": [
    "##################################\n",
    "# Sending a POST endpoint request for\n",
    "# generating the heart failure survival profile and\n",
    "# estimating the heart failure survival probabilities\n",
    "# of a list of train cases\n",
    "##################################\n",
    "response = requests.post(f\"{SP_BASE_URL}/compute-list-coxph-survival-profile/\", json=train_list)\n",
    "if response.status_code == 200:\n",
    "    print(\"Response:\", response.json())\n",
    "else:\n",
    "    print(\"Error:\", response.status_code, response.text)\n",
    "    "
   ]
  },
  {
   "cell_type": "code",
   "execution_count": 16,
   "id": "7e0ddc1f-f4dd-4d9a-b404-386ee4ec4cb9",
   "metadata": {},
   "outputs": [
    {
     "name": "stdout",
     "output_type": "stream",
     "text": [
      "Error: 422 {\"detail\":[{\"type\":\"missing\",\"loc\":[\"body\",\"features_individual\"],\"msg\":\"Field required\",\"input\":{\"features\":[43,0,75,1,0.75]}}]}\n"
     ]
    }
   ],
   "source": [
    "##################################\n",
    "# Sending a POST endpoint request\n",
    "# using malformed data to evaluate\n",
    "# the API's error handling function\n",
    "##################################\n",
    "malformed_test_case = {\"features\": [43, 0, 75, 1, 0.75]}\n",
    "response = requests.post(f\"{SP_BASE_URL}/compute-individual-coxph-survival-probability-class\", json=malformed_test_case)\n",
    "if response.status_code == 200:\n",
    "    print(\"Response:\", response.json())\n",
    "else:\n",
    "    print(\"Error:\", response.status_code, response.text)\n",
    "    "
   ]
  },
  {
   "cell_type": "markdown",
   "id": "19155438-8252-4f3e-8f33-c285d57852c1",
   "metadata": {},
   "source": [
    "### 1.2.3 Image Classfication <a class=\"anchor\" id=\"1.2.3\"></a>"
   ]
  },
  {
   "cell_type": "markdown",
   "id": "643cb4c0-c1c2-49ed-8c8d-360b1e8c1f89",
   "metadata": {},
   "source": [
    "#### 1.2.3.1 API Building <a class=\"anchor\" id=\"1.2.3.1\"></a>"
   ]
  },
  {
   "cell_type": "markdown",
   "id": "b67eadd4-a72d-4efd-b42d-ab4ba71d403d",
   "metadata": {},
   "source": [
    "#### 1.2.3.2 API Testing <a class=\"anchor\" id=\"1.2.3.2\"></a>"
   ]
  },
  {
   "cell_type": "markdown",
   "id": "b6c8cfb2-38d7-4303-ba4d-7fc5b0e91aa3",
   "metadata": {},
   "source": [
    "## 1.3. Application Programming Interface (API) Development Using the Flask Framework <a class=\"anchor\" id=\"1.3\"></a>"
   ]
  },
  {
   "cell_type": "markdown",
   "id": "59ac881b-d543-4136-b02b-5f8e6cf1d84d",
   "metadata": {},
   "source": [
    "### 1.3.1 Categorical Classification <a class=\"anchor\" id=\"1.3.1\"></a>"
   ]
  },
  {
   "cell_type": "markdown",
   "id": "30c63ba1-5952-481e-abe6-8550a7b2fccd",
   "metadata": {},
   "source": [
    "#### 1.3.1.1 API Building <a class=\"anchor\" id=\"1.3.1.1\"></a>"
   ]
  },
  {
   "cell_type": "markdown",
   "id": "20878efd-4878-4047-b302-021671d87eac",
   "metadata": {},
   "source": [
    "#### 1.3.1.2 API Testing <a class=\"anchor\" id=\"1.3.1.2\"></a>"
   ]
  },
  {
   "cell_type": "markdown",
   "id": "a959ddf9-aff8-48e7-9721-28cbf04142ab",
   "metadata": {},
   "source": [
    "### 1.3.2 Survival Prediction <a class=\"anchor\" id=\"1.3.2\"></a>"
   ]
  },
  {
   "cell_type": "markdown",
   "id": "0c216a34-18c4-4738-84f5-2f3c5a659a2c",
   "metadata": {},
   "source": [
    "#### 1.3.2.1 API Building <a class=\"anchor\" id=\"1.3.2.1\"></a>"
   ]
  },
  {
   "cell_type": "markdown",
   "id": "8e641846-4157-456d-9efb-702f06565346",
   "metadata": {},
   "source": [
    "#### 1.3.2.2 API Testing <a class=\"anchor\" id=\"1.3.2.2\"></a>"
   ]
  },
  {
   "cell_type": "markdown",
   "id": "9312e1f4-be78-40b3-93bd-f5e9e792e4d9",
   "metadata": {},
   "source": [
    "### 1.3.3 Image Classfication <a class=\"anchor\" id=\"1.3.3\"></a>"
   ]
  },
  {
   "cell_type": "markdown",
   "id": "6bb2e3e6-dbe4-4f77-a6fd-8083ff109541",
   "metadata": {},
   "source": [
    "#### 1.3.3.1 API Building <a class=\"anchor\" id=\"1.3.3.1\"></a>"
   ]
  },
  {
   "cell_type": "markdown",
   "id": "d3e1fc03-89d6-46ba-8cf7-27b29dd074a3",
   "metadata": {},
   "source": [
    "#### 1.3.3.2 API Testing <a class=\"anchor\" id=\"1.3.3.2\"></a>"
   ]
  },
  {
   "cell_type": "markdown",
   "id": "f2466149-83e0-46eb-9639-12b8a71f3189",
   "metadata": {},
   "source": [
    "## 1.4. Consolidated Findings <a class=\"anchor\" id=\"1.4\"></a>"
   ]
  },
  {
   "cell_type": "markdown",
   "id": "caf36fb6-3362-4831-a2af-4a0fef0bcca2",
   "metadata": {},
   "source": [
    "# 2. Summary <a class=\"anchor\" id=\"Summary\"></a>"
   ]
  },
  {
   "cell_type": "markdown",
   "id": "eacaf2a5-87f5-4b5b-ba22-96aee2cec5ed",
   "metadata": {},
   "source": [
    "# 3. References <a class=\"anchor\" id=\"References\"></a>"
   ]
  }
 ],
 "metadata": {
  "kernelspec": {
   "display_name": "Python 3 (ipykernel)",
   "language": "python",
   "name": "python3"
  },
  "language_info": {
   "codemirror_mode": {
    "name": "ipython",
    "version": 3
   },
   "file_extension": ".py",
   "mimetype": "text/x-python",
   "name": "python",
   "nbconvert_exporter": "python",
   "pygments_lexer": "ipython3",
   "version": "3.12.5"
  }
 },
 "nbformat": 4,
 "nbformat_minor": 5
}
