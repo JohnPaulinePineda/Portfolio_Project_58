{
 "cells": [
  {
   "cell_type": "markdown",
   "id": "810e3ea5-b9fc-4344-b090-3ea10e3d4a82",
   "metadata": {},
   "source": [
    "***\n",
    "# Model Deployment : Exploring Modular Application Programming Interface Frameworks For Serving Model Predictions"
   ]
  },
  {
   "cell_type": "markdown",
   "id": "b7b23c7c-6b22-49ad-b912-a5b99bbaadaf",
   "metadata": {},
   "source": [
    "***\n",
    "### [**John Pauline Pineda**](https://github.com/JohnPaulinePineda) <br> <br> *January 25, 2025*\n",
    "***"
   ]
  },
  {
   "cell_type": "markdown",
   "id": "8558c66d-eda4-4706-8ba3-d970d12bfb7b",
   "metadata": {},
   "source": [
    "* [**1. Table of Contents**](#TOC)\n",
    "    * [1.1 Project Background](#1.1)\n",
    "        * [1.1.1 Categorical Classfication](#1.1.1)\n",
    "            * [1.1.1.1 Data Background](#1.1.1.1)\n",
    "            * [1.1.1.2 Model Background](#1.1.2.1)\n",
    "        * [1.1.2 Survival Prediction](#1.1.2)\n",
    "            * [1.1.2.1 Data Background](#1.1.2.1)\n",
    "            * [1.1.2.2 Model Background](#1.1.2.2)\n",
    "        * [1.1.3 Survival Prediction](#1.1.3)\n",
    "            * [1.1.3.1 Data Background](#1.1.2.1)\n",
    "            * [1.1.3.2 Model Background](#1.1.3.2)\n",
    "    * [1.2 Application Programming Interface (API) Development Using the FastAPI Framework](#1.2)\n",
    "        * [1.2.1 Categorical Classfication](#1.2.1)\n",
    "            * [1.2.1.1 API Building](#1.2.1.1)\n",
    "            * [1.2.1.2 API Testing](#1.2.1.2)\n",
    "        * [1.2.2 Categorical Classfication](#1.2.2)\n",
    "            * [1.2.2.1 API Building](#1.2.2.1)\n",
    "            * [1.2.2.2 API Testing](#1.2.2.2)\n",
    "        * [1.2.3 Categorical Classfication](#1.2.3)\n",
    "            * [1.2.3.1 API Building](#1.2.3.1)\n",
    "            * [1.2.3.2 API Testing](#1.2.3.2)\n",
    "    * [1.3 Application Programming Interface (API) Development Using the Flask Framework](#1.3)\n",
    "        * [1.3.1 Categorical Classfication](#1.3.1)\n",
    "            * [1.3.1.1 API Building](#1.3.1.1)\n",
    "            * [1.3.1.2 API Testing](#1.3.1.2)\n",
    "        * [1.3.2 Categorical Classfication](#1.3.2)\n",
    "            * [1.3.2.1 API Building](#1.3.2.1)\n",
    "            * [1.3.2.2 API Testing](#1.3.2.2)\n",
    "        * [1.3.3 Categorical Classfication](#1.3.3)\n",
    "            * [1.3.3.1 API Building](#1.3.3.1)\n",
    "            * [1.3.3.2 API Testing](#1.3.3.2)\n",
    "    * [1.4 Consolidated Findings](#1.1)\n",
    "* [**2. Summary**](#Summary)   \n",
    "* [**3. References**](#References)\n",
    "\n",
    "***"
   ]
  },
  {
   "cell_type": "markdown",
   "id": "dd4f79b7-3e68-46ea-84f2-08cf9b2e5c20",
   "metadata": {},
   "source": [
    "# 1. Table of Contents <a class=\"anchor\" id=\"TOC\"></a>"
   ]
  },
  {
   "cell_type": "markdown",
   "id": "504de7a4-8417-4560-973e-afd75ec833ab",
   "metadata": {},
   "source": [
    "## 1.1. Project Background <a class=\"anchor\" id=\"1.1\"></a>"
   ]
  },
  {
   "cell_type": "markdown",
   "id": "630eed69-65fa-4ee3-9d55-9adb7347e156",
   "metadata": {},
   "source": [
    "### 1.1.1 Categorical Classification <a class=\"anchor\" id=\"1.1.1\"></a>"
   ]
  },
  {
   "cell_type": "markdown",
   "id": "9be55c1a-5d5d-4354-936a-f0a5833763c8",
   "metadata": {},
   "source": [
    "#### 1.1.1.1 Data Background <a class=\"anchor\" id=\"1.1.1.1\"></a>"
   ]
  },
  {
   "cell_type": "markdown",
   "id": "6d251b1e-bad6-4c70-9612-84329ec0e03e",
   "metadata": {},
   "source": [
    "#### 1.1.1.2 Model Background <a class=\"anchor\" id=\"1.1.1.2\"></a>"
   ]
  },
  {
   "cell_type": "markdown",
   "id": "62e33982-f3a8-441e-8b37-101192641b16",
   "metadata": {},
   "source": [
    "### 1.1.2 Survival Prediction <a class=\"anchor\" id=\"1.1.2\"></a>"
   ]
  },
  {
   "cell_type": "markdown",
   "id": "f837a5c4-25ea-4c9a-ad76-a3f4dfaf020d",
   "metadata": {},
   "source": [
    "#### 1.1.2.1 Data Background <a class=\"anchor\" id=\"1.1.2.1\"></a>"
   ]
  },
  {
   "cell_type": "markdown",
   "id": "89287515-ec7d-4413-b79f-391d9e0983a3",
   "metadata": {},
   "source": [
    "#### 1.1.2.2 Model Background <a class=\"anchor\" id=\"1.1.2.2\"></a>"
   ]
  },
  {
   "cell_type": "markdown",
   "id": "93926615-43ed-4e93-9f11-afaba4603738",
   "metadata": {},
   "source": [
    "### 1.1.3 Image Classfication <a class=\"anchor\" id=\"1.1.3\"></a>"
   ]
  },
  {
   "cell_type": "markdown",
   "id": "249b5669-3cfa-46c9-bf09-767d4c666739",
   "metadata": {},
   "source": [
    "#### 1.1.3.1 Data Background <a class=\"anchor\" id=\"1.1.3.1\"></a>"
   ]
  },
  {
   "cell_type": "markdown",
   "id": "014b41a8-fc6d-45d6-ba0b-2e8740f57bae",
   "metadata": {},
   "source": [
    "#### 1.1.3.2 Model Background <a class=\"anchor\" id=\"1.1.3.2\"></a>"
   ]
  },
  {
   "cell_type": "markdown",
   "id": "21470ae0-bcee-45fe-b221-c8f748dd0919",
   "metadata": {},
   "source": [
    "## 1.2. Application Programming Interface (API) Development Using the FastAPI Framework <a class=\"anchor\" id=\"1.2\"></a>"
   ]
  },
  {
   "cell_type": "markdown",
   "id": "1cb145da-fd94-428e-a69b-a979f1cc90ea",
   "metadata": {},
   "source": [
    "### 1.2.1 Categorical Classification <a class=\"anchor\" id=\"1.2.1\"></a>"
   ]
  },
  {
   "cell_type": "markdown",
   "id": "bb8943ec-414a-469a-8c67-f76324fb3c73",
   "metadata": {},
   "source": [
    "#### 1.2.1.1 API Building <a class=\"anchor\" id=\"1.2.1.1\"></a>"
   ]
  },
  {
   "cell_type": "markdown",
   "id": "89064c10-389b-4b68-9c20-f4872fedaa93",
   "metadata": {},
   "source": [
    "#### 1.2.1.2 API Testing <a class=\"anchor\" id=\"1.2.1.2\"></a>"
   ]
  },
  {
   "cell_type": "markdown",
   "id": "36acf173-f168-4859-8e14-af001bf45561",
   "metadata": {},
   "source": [
    "### 1.2.2 Survival Prediction <a class=\"anchor\" id=\"1.2.2\"></a>"
   ]
  },
  {
   "cell_type": "markdown",
   "id": "fe519789-84e2-4ea6-89fd-bae959c442fc",
   "metadata": {},
   "source": [
    "#### 1.2.2.1 API Building <a class=\"anchor\" id=\"1.2.2.1\"></a>"
   ]
  },
  {
   "cell_type": "markdown",
   "id": "cb5f5027-da69-4c10-a9ce-2891e4b9e190",
   "metadata": {},
   "source": [
    "#### 1.2.2.2 API Testing <a class=\"anchor\" id=\"1.2.2.2\"></a>"
   ]
  },
  {
   "cell_type": "markdown",
   "id": "19155438-8252-4f3e-8f33-c285d57852c1",
   "metadata": {},
   "source": [
    "### 1.2.3 Image Classfication <a class=\"anchor\" id=\"1.2.3\"></a>"
   ]
  },
  {
   "cell_type": "markdown",
   "id": "643cb4c0-c1c2-49ed-8c8d-360b1e8c1f89",
   "metadata": {},
   "source": [
    "#### 1.2.3.1 API Building <a class=\"anchor\" id=\"1.2.3.1\"></a>"
   ]
  },
  {
   "cell_type": "markdown",
   "id": "b67eadd4-a72d-4efd-b42d-ab4ba71d403d",
   "metadata": {},
   "source": [
    "#### 1.2.3.2 API Testing <a class=\"anchor\" id=\"1.2.3.2\"></a>"
   ]
  },
  {
   "cell_type": "markdown",
   "id": "b6c8cfb2-38d7-4303-ba4d-7fc5b0e91aa3",
   "metadata": {},
   "source": [
    "## 1.3. Application Programming Interface (API) Development Using the Flask Framework <a class=\"anchor\" id=\"1.3\"></a>"
   ]
  },
  {
   "cell_type": "markdown",
   "id": "59ac881b-d543-4136-b02b-5f8e6cf1d84d",
   "metadata": {},
   "source": [
    "### 1.3.1 Categorical Classification <a class=\"anchor\" id=\"1.3.1\"></a>"
   ]
  },
  {
   "cell_type": "markdown",
   "id": "30c63ba1-5952-481e-abe6-8550a7b2fccd",
   "metadata": {},
   "source": [
    "#### 1.3.1.1 API Building <a class=\"anchor\" id=\"1.3.1.1\"></a>"
   ]
  },
  {
   "cell_type": "markdown",
   "id": "20878efd-4878-4047-b302-021671d87eac",
   "metadata": {},
   "source": [
    "#### 1.3.1.2 API Testing <a class=\"anchor\" id=\"1.3.1.2\"></a>"
   ]
  },
  {
   "cell_type": "markdown",
   "id": "a959ddf9-aff8-48e7-9721-28cbf04142ab",
   "metadata": {},
   "source": [
    "### 1.3.2 Survival Prediction <a class=\"anchor\" id=\"1.3.2\"></a>"
   ]
  },
  {
   "cell_type": "markdown",
   "id": "0c216a34-18c4-4738-84f5-2f3c5a659a2c",
   "metadata": {},
   "source": [
    "#### 1.3.2.1 API Building <a class=\"anchor\" id=\"1.3.2.1\"></a>"
   ]
  },
  {
   "cell_type": "markdown",
   "id": "8e641846-4157-456d-9efb-702f06565346",
   "metadata": {},
   "source": [
    "#### 1.3.2.2 API Testing <a class=\"anchor\" id=\"1.3.2.2\"></a>"
   ]
  },
  {
   "cell_type": "markdown",
   "id": "9312e1f4-be78-40b3-93bd-f5e9e792e4d9",
   "metadata": {},
   "source": [
    "### 1.3.3 Image Classfication <a class=\"anchor\" id=\"1.3.3\"></a>"
   ]
  },
  {
   "cell_type": "markdown",
   "id": "6bb2e3e6-dbe4-4f77-a6fd-8083ff109541",
   "metadata": {},
   "source": [
    "#### 1.3.3.1 API Building <a class=\"anchor\" id=\"1.3.3.1\"></a>"
   ]
  },
  {
   "cell_type": "markdown",
   "id": "d3e1fc03-89d6-46ba-8cf7-27b29dd074a3",
   "metadata": {},
   "source": [
    "#### 1.3.3.2 API Testing <a class=\"anchor\" id=\"1.3.3.2\"></a>"
   ]
  },
  {
   "cell_type": "markdown",
   "id": "f2466149-83e0-46eb-9639-12b8a71f3189",
   "metadata": {},
   "source": [
    "## 1.4. Consolidated Findings <a class=\"anchor\" id=\"1.4\"></a>"
   ]
  },
  {
   "cell_type": "markdown",
   "id": "caf36fb6-3362-4831-a2af-4a0fef0bcca2",
   "metadata": {},
   "source": [
    "# 2. Summary <a class=\"anchor\" id=\"Summary\"></a>"
   ]
  },
  {
   "cell_type": "markdown",
   "id": "eacaf2a5-87f5-4b5b-ba22-96aee2cec5ed",
   "metadata": {},
   "source": [
    "# 3. References <a class=\"anchor\" id=\"References\"></a>"
   ]
  }
 ],
 "metadata": {
  "kernelspec": {
   "display_name": "Python 3 (ipykernel)",
   "language": "python",
   "name": "python3"
  },
  "language_info": {
   "codemirror_mode": {
    "name": "ipython",
    "version": 3
   },
   "file_extension": ".py",
   "mimetype": "text/x-python",
   "name": "python",
   "nbconvert_exporter": "python",
   "pygments_lexer": "ipython3",
   "version": "3.12.5"
  }
 },
 "nbformat": 4,
 "nbformat_minor": 5
}
